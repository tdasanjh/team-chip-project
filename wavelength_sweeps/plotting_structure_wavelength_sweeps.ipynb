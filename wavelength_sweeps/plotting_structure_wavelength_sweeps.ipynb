{
 "cells": [
  {
   "cell_type": "code",
   "execution_count": 1,
   "metadata": {},
   "outputs": [],
   "source": [
    "import pandas as pd\n",
    "import matplotlib.pyplot as plt\n",
    "import matplotlib as mpl"
   ]
  },
  {
   "cell_type": "code",
   "execution_count": null,
   "metadata": {},
   "outputs": [],
   "source": [
    "def get_wavlen_and_pow_arrays(data_filepath):\n",
    "    # to get an array of wavelengths and an array of powers from csv\n",
    "    # takes in full csv filepath with wavelength in first column and power in second\n",
    "    #returns a tuple of power and wavelength arrays\n",
    "    data_analyse=pd.read_csv(data_filepath, header=None)\n",
    "    data_analyse_array=data_analyse.to_numpy(copy=True)\n",
    "\n",
    "    wavelengths=data_analyse_array[:,0]\n",
    "    powers_dBm=data_analyse_array[:,1]\n",
    "    return (wavelengths,powers_dBm)"
   ]
  },
  {
   "cell_type": "code",
   "execution_count": null,
   "metadata": {},
   "outputs": [],
   "source": [
    "sweep_data_filename=\"pw_rr_20_020 2023-12-08 14-17-36.csv\"\n",
    "wavelength_array,power_array=get_wavlen_and_pow_arrays(sweep_data_filename)"
   ]
  },
  {
   "cell_type": "code",
   "execution_count": null,
   "metadata": {},
   "outputs": [],
   "source": [
    "mpl.rcParams[\"font.size\"]=19\n",
    "fig1,ax1=plt.subplots()\n",
    "ax1.plot(wavelength_array,power_array,color=\"black\")\n",
    "ax1.set_xlabel(\"Wavelength/nm\")\n",
    "ax1.set_ylabel(\"Power/dBm\")\n",
    "plt.show()"
   ]
  }
 ],
 "metadata": {
  "kernelspec": {
   "display_name": "base",
   "language": "python",
   "name": "python3"
  },
  "language_info": {
   "codemirror_mode": {
    "name": "ipython",
    "version": 3
   },
   "file_extension": ".py",
   "mimetype": "text/x-python",
   "name": "python",
   "nbconvert_exporter": "python",
   "pygments_lexer": "ipython3",
   "version": "3.11.5"
  }
 },
 "nbformat": 4,
 "nbformat_minor": 2
}
