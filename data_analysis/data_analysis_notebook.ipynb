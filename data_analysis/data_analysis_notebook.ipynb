{
 "cells": [
  {
   "cell_type": "code",
   "execution_count": null,
   "metadata": {},
   "outputs": [],
   "source": [
    "import data_analysis_funcs as daf\n",
    "import matplotlib.pyplot as plt"
   ]
  },
  {
   "cell_type": "code",
   "execution_count": null,
   "metadata": {},
   "outputs": [],
   "source": [
    "data_analyse_file=\"sg_rr_20_025 2023-12-13 17-59-26.csv\"\n",
    "wvlen_array,pow_array=daf.get_wavlen_and_pow_arrays(data_analyse_file)\n",
    "daf.plot_visualise(wvlen_array,pow_array, full_range=True)"
   ]
  },
  {
   "cell_type": "code",
   "execution_count": null,
   "metadata": {},
   "outputs": [],
   "source": [
    "print(wvlen_array[5000])\n",
    "print(wvlen_array[1000])\n",
    "start_point_index=1000\n",
    "end_point_index=5001\n",
    "daf.plot_visualise(wvlen_array,pow_array,full_range=False,start_index=start_point_index,stop_index=end_point_index)\n",
    "wvlen_peak_search=wvlen_array[start_point_index:end_point_index]\n",
    "power_peak_search=pow_array[start_point_index:end_point_index]"
   ]
  },
  {
   "cell_type": "code",
   "execution_count": null,
   "metadata": {},
   "outputs": [],
   "source": [
    "peak_locs,n_peaks,peak_wavelens,peak_powers=daf.give_peak_locs(0.01,5,0.25,250,wvlen_peak_search,power_peak_search)\n",
    "plt.plot(wvlen_peak_search,power_peak_search)\n",
    "plt.scatter(peak_wavelens,peak_powers,color=\"red\")\n",
    "plt.show()"
   ]
  },
  {
   "cell_type": "code",
   "execution_count": null,
   "metadata": {},
   "outputs": [],
   "source": [
    "fsr_values=daf.calc_fsrs(peak_wavelens)\n",
    "fsr_mean,fsr_error=daf.fsr_avg_and_error(fsr_values)\n",
    "print(fsr_values)\n",
    "print(fsr_mean)\n",
    "print(fsr_error)"
   ]
  }
 ],
 "metadata": {
  "kernelspec": {
   "display_name": "base",
   "language": "python",
   "name": "python3"
  },
  "language_info": {
   "codemirror_mode": {
    "name": "ipython",
    "version": 3
   },
   "file_extension": ".py",
   "mimetype": "text/x-python",
   "name": "python",
   "nbconvert_exporter": "python",
   "pygments_lexer": "ipython3",
   "version": "3.11.5"
  }
 },
 "nbformat": 4,
 "nbformat_minor": 2
}
