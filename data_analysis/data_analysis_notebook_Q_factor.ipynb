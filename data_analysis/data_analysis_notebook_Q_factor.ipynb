{
 "cells": [
  {
   "cell_type": "code",
   "execution_count": 1,
   "metadata": {},
   "outputs": [],
   "source": [
    "import data_analysis_funcs as daf\n",
    "import matplotlib.pyplot as plt"
   ]
  },
  {
   "cell_type": "code",
   "execution_count": null,
   "metadata": {},
   "outputs": [],
   "source": [
    "data_analyse_file=\"sg_rr_100_030 2023-12-08 16-08-32.csv\"\n",
    "wvlen_array,pow_array=daf.get_wavlen_and_pow_arrays(data_analyse_file)\n",
    "daf.plot_visualise(wvlen_array,pow_array, full_range=True)"
   ]
  },
  {
   "cell_type": "code",
   "execution_count": null,
   "metadata": {},
   "outputs": [],
   "source": [
    "start_point_index=1000\n",
    "end_point_index=5001\n",
    "daf.plot_visualise(wvlen_array,pow_array,full_range=False,start_index=start_point_index,stop_index=end_point_index)\n",
    "wvlen_peak_search=wvlen_array[start_point_index:end_point_index]\n",
    "power_peak_search_dBm=pow_array[start_point_index:end_point_index]\n",
    "power_peak_search=daf.vector_dBm_to_mW(power_peak_search_dBm)\n",
    "print(wvlen_peak_search[0])\n",
    "print(wvlen_peak_search[-1])"
   ]
  },
  {
   "cell_type": "code",
   "execution_count": null,
   "metadata": {},
   "outputs": [],
   "source": [
    "wvlen_step_size=0.01\n",
    "approx_fsr=1\n",
    "promin_use=0.5\n",
    "dist_use=(approx_fsr/2)/wvlen_step_size\n",
    "#dist_use=1\n",
    "peak_locs,n_peaks,peak_wavelens,peak_powers=daf.give_peak_locs(wvlen_step_size,approx_fsr,promin_use,dist_use,wvlen_peak_search,power_peak_search)\n",
    "plt.plot(wvlen_peak_search,power_peak_search)\n",
    "plt.scatter(peak_wavelens,peak_powers,color=\"red\", marker=\"x\")\n",
    "plt.show()\n",
    "print(n_peaks)#just added for sanity check\n",
    "print(peak_wavelens)#sanity check"
   ]
  },
  {
   "cell_type": "code",
   "execution_count": null,
   "metadata": {},
   "outputs": [],
   "source": [
    "fsr_values=daf.calc_fsrs(peak_wavelens)\n",
    "fsr_mean,fsr_error=daf.fsr_avg_and_error(fsr_values)\n",
    "print(fsr_values)\n",
    "print(fsr_mean)\n",
    "print(fsr_error)"
   ]
  },
  {
   "cell_type": "markdown",
   "metadata": {},
   "source": [
    "Now to calculate peak widths below:"
   ]
  },
  {
   "cell_type": "code",
   "execution_count": null,
   "metadata": {},
   "outputs": [],
   "source": [
    "peak_width_data=daf.get_peak_FWHM(wvlen_step_size,approx_fsr,promin_use,dist_use,wvlen_peak_search,power_peak_search)\n",
    "peak_widths=peak_width_data[0]\n",
    "print(peak_widths)\n",
    "peak_width_heights=peak_width_data[1]\n",
    "peak_width_lefts=peak_width_data[2]\n",
    "peak_width_rights=peak_width_data[3]\n",
    "daf.plot_lines_FWHM(peak_width_heights,peak_width_lefts,peak_width_rights,wvlen_peak_search,power_peak_search)\n"
   ]
  },
  {
   "cell_type": "markdown",
   "metadata": {},
   "source": [
    "Now calculating mean and standard error on FWHM using same func as for fsr:"
   ]
  },
  {
   "cell_type": "code",
   "execution_count": null,
   "metadata": {},
   "outputs": [],
   "source": [
    "mean_FWHM,FWHM_error=daf.fsr_avg_and_error(peak_widths)\n",
    "print(mean_FWHM)\n",
    "print(FWHM_error)"
   ]
  }
 ],
 "metadata": {
  "kernelspec": {
   "display_name": "base",
   "language": "python",
   "name": "python3"
  },
  "language_info": {
   "codemirror_mode": {
    "name": "ipython",
    "version": 3
   },
   "file_extension": ".py",
   "mimetype": "text/x-python",
   "name": "python",
   "nbconvert_exporter": "python",
   "pygments_lexer": "ipython3",
   "version": "3.11.5"
  }
 },
 "nbformat": 4,
 "nbformat_minor": 2
}
